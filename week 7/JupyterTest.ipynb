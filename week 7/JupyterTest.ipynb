{
 "cells": [
  {
   "cell_type": "markdown",
   "id": "9c565382-f353-4cfe-9c87-a70c3ea3453a",
   "metadata": {},
   "source": [
    "# First test in jupyter notebook\n",
    "### let's learn how to use markdown\n"
   ]
  },
  {
   "cell_type": "markdown",
   "id": "079de36c-e3e9-4cb0-a1a6-9ce5c1ac278f",
   "metadata": {},
   "source": [
    "# import libraries\n",
    "\n",
    "#### keep in mind that the library must be installed in your *environment*\n"
   ]
  },
  {
   "cell_type": "code",
   "execution_count": 5,
   "id": "86aa225f-b227-4580-8534-eff79e4ce8d3",
   "metadata": {},
   "outputs": [
    {
     "name": "stdout",
     "output_type": "stream",
     "text": [
      "2.2.1\n"
     ]
    }
   ],
   "source": [
    "import numpy as np\n",
    "\n",
    "print(np.__version__)"
   ]
  },
  {
   "cell_type": "code",
   "execution_count": 7,
   "id": "e09c95ee-1466-4bf3-a641-8726d6802e5e",
   "metadata": {
    "scrolled": true
   },
   "outputs": [
    {
     "name": "stdout",
     "output_type": "stream",
     "text": [
      "2.2.3\n"
     ]
    }
   ],
   "source": [
    "import matplotlib.pyplot as plt\n",
    "import pandas as pd\n",
    "\n",
    "\n",
    "print(pd.__version__)"
   ]
  },
  {
   "cell_type": "markdown",
   "id": "788541e4-f4cc-4d40-97f1-e770f98fb5f1",
   "metadata": {},
   "source": [
    "# numbering\n",
    "1. first item\n",
    "10. item 2"
   ]
  },
  {
   "cell_type": "markdown",
   "id": "4accf209-5481-4868-91db-22c19f32a257",
   "metadata": {},
   "source": [
    "# Bullet points\n",
    "- a\n",
    "- b\n",
    "- c"
   ]
  },
  {
   "cell_type": "markdown",
   "id": "15f1a551-c5f9-425d-bc5b-3be604cf8d8b",
   "metadata": {},
   "source": [
    "# how to put a link\n",
    "#### write the name in [ ] and put the URL in ( )\n",
    "\n",
    "[Markdown Tutorial](https://www.markdownguide.org/basic-syntax/)"
   ]
  },
  {
   "cell_type": "markdown",
   "id": "1af4487b-32f0-4cb5-af19-8419f79575b9",
   "metadata": {},
   "source": [
    "# How to add an image from the internet\n",
    "#### write the alt text in ![ ] and add the url in ( )\n",
    "![E-Atlas Robot](https://bostondynamics.com/wp-content/uploads/2024/04/atlas-yellow.jpg)"
   ]
  },
  {
   "cell_type": "markdown",
   "id": "b5b1f76a-0469-453f-a1d1-ef3ad686c07c",
   "metadata": {},
   "source": [
    "# How to add an image from the local pc\n",
    "#### It is important that where the jupyter file is saved to be able to adderess the correct path\n",
    "![Atlas Robot](Atlas-FinalArt.webp)"
   ]
  }
 ],
 "metadata": {
  "kernelspec": {
   "display_name": "Python 3 (ipykernel)",
   "language": "python",
   "name": "python3"
  },
  "language_info": {
   "codemirror_mode": {
    "name": "ipython",
    "version": 3
   },
   "file_extension": ".py",
   "mimetype": "text/x-python",
   "name": "python",
   "nbconvert_exporter": "python",
   "pygments_lexer": "ipython3",
   "version": "3.13.0"
  }
 },
 "nbformat": 4,
 "nbformat_minor": 5
}
